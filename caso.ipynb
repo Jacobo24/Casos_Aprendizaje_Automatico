{
 "cells": [
  {
   "cell_type": "markdown",
   "id": "b07ff815",
   "metadata": {},
   "source": [
    "# Importar librerias"
   ]
  },
  {
   "cell_type": "code",
   "execution_count": 1,
   "id": "82b158df",
   "metadata": {},
   "outputs": [
    {
     "name": "stdout",
     "output_type": "stream",
     "text": [
      "True\n",
      "NVIDIA GeForce RTX 3050 Laptop GPU\n"
     ]
    }
   ],
   "source": [
    "import torch\n",
    "print(torch.cuda.is_available())  # True\n",
    "print(torch.cuda.get_device_name(0))  # NVIDIA GeForce RTX 3050"
   ]
  },
  {
   "cell_type": "code",
   "execution_count": 2,
   "id": "cc771add",
   "metadata": {},
   "outputs": [
    {
     "name": "stdout",
     "output_type": "stream",
     "text": [
      "Requirement already satisfied: opencv-python in c:\\users\\usuario\\onedrive\\documentos\\github\\casos_aprendizaje_automatico\\env11\\lib\\site-packages (4.12.0.88)\n",
      "Requirement already satisfied: numpy<2.3.0,>=2 in c:\\users\\usuario\\onedrive\\documentos\\github\\casos_aprendizaje_automatico\\env11\\lib\\site-packages (from opencv-python) (2.1.2)\n",
      "Note: you may need to restart the kernel to use updated packages.\n"
     ]
    },
    {
     "name": "stderr",
     "output_type": "stream",
     "text": [
      "\n",
      "[notice] A new release of pip is available: 24.0 -> 25.2\n",
      "[notice] To update, run: python.exe -m pip install --upgrade pip\n"
     ]
    }
   ],
   "source": [
    "pip install opencv-python\n"
   ]
  },
  {
   "cell_type": "code",
   "execution_count": 3,
   "id": "2e0cb61d",
   "metadata": {},
   "outputs": [
    {
     "name": "stdout",
     "output_type": "stream",
     "text": [
      "Requirement already satisfied: torch in c:\\users\\usuario\\onedrive\\documentos\\github\\casos_aprendizaje_automatico\\env11\\lib\\site-packages (2.5.1+cu121)\n",
      "Requirement already satisfied: torchvision in c:\\users\\usuario\\onedrive\\documentos\\github\\casos_aprendizaje_automatico\\env11\\lib\\site-packages (0.20.1+cu121)\n",
      "Requirement already satisfied: filelock in c:\\users\\usuario\\onedrive\\documentos\\github\\casos_aprendizaje_automatico\\env11\\lib\\site-packages (from torch) (3.13.1)\n",
      "Requirement already satisfied: typing-extensions>=4.8.0 in c:\\users\\usuario\\onedrive\\documentos\\github\\casos_aprendizaje_automatico\\env11\\lib\\site-packages (from torch) (4.12.2)\n",
      "Requirement already satisfied: networkx in c:\\users\\usuario\\onedrive\\documentos\\github\\casos_aprendizaje_automatico\\env11\\lib\\site-packages (from torch) (3.3)\n",
      "Requirement already satisfied: jinja2 in c:\\users\\usuario\\onedrive\\documentos\\github\\casos_aprendizaje_automatico\\env11\\lib\\site-packages (from torch) (3.1.4)\n",
      "Requirement already satisfied: fsspec in c:\\users\\usuario\\onedrive\\documentos\\github\\casos_aprendizaje_automatico\\env11\\lib\\site-packages (from torch) (2024.6.1)\n",
      "Requirement already satisfied: sympy==1.13.1 in c:\\users\\usuario\\onedrive\\documentos\\github\\casos_aprendizaje_automatico\\env11\\lib\\site-packages (from torch) (1.13.1)\n",
      "Requirement already satisfied: mpmath<1.4,>=1.1.0 in c:\\users\\usuario\\onedrive\\documentos\\github\\casos_aprendizaje_automatico\\env11\\lib\\site-packages (from sympy==1.13.1->torch) (1.3.0)\n",
      "Requirement already satisfied: numpy in c:\\users\\usuario\\onedrive\\documentos\\github\\casos_aprendizaje_automatico\\env11\\lib\\site-packages (from torchvision) (2.1.2)\n",
      "Requirement already satisfied: pillow!=8.3.*,>=5.3.0 in c:\\users\\usuario\\onedrive\\documentos\\github\\casos_aprendizaje_automatico\\env11\\lib\\site-packages (from torchvision) (11.0.0)\n",
      "Requirement already satisfied: MarkupSafe>=2.0 in c:\\users\\usuario\\onedrive\\documentos\\github\\casos_aprendizaje_automatico\\env11\\lib\\site-packages (from jinja2->torch) (2.1.5)\n",
      "Note: you may need to restart the kernel to use updated packages.\n"
     ]
    },
    {
     "name": "stderr",
     "output_type": "stream",
     "text": [
      "\n",
      "[notice] A new release of pip is available: 24.0 -> 25.2\n",
      "[notice] To update, run: python.exe -m pip install --upgrade pip\n"
     ]
    }
   ],
   "source": [
    "pip install torch torchvision"
   ]
  },
  {
   "cell_type": "code",
   "execution_count": 4,
   "id": "309ceb62",
   "metadata": {},
   "outputs": [],
   "source": [
    "import os, math, random, pathlib\n",
    "from typing import Tuple\n",
    "import torch\n",
    "from torch.utils.data import DataLoader, Subset\n",
    "from torchvision import datasets, transforms as T"
   ]
  },
  {
   "cell_type": "code",
   "execution_count": 5,
   "id": "3f526a42",
   "metadata": {},
   "outputs": [],
   "source": [
    "import matplotlib.pyplot as plt\n",
    "import numpy as np\n",
    "from sklearn.model_selection import train_test_split\n",
    "from sklearn.metrics import confusion_matrix, ConfusionMatrixDisplay\n",
    "import seaborn as sns"
   ]
  },
  {
   "cell_type": "markdown",
   "id": "c1f1c830",
   "metadata": {},
   "source": [
    "# Dimensionar las imagenes"
   ]
  },
  {
   "cell_type": "code",
   "execution_count": 6,
   "id": "f73f8a9d",
   "metadata": {},
   "outputs": [],
   "source": [
    "from torchvision import transforms\n",
    "\n",
    "# Transformaciones para entrenamiento (aumentos + normalización)\n",
    "train_transforms = transforms.Compose([\n",
    "    transforms.Resize((224, 224)),\n",
    "    transforms.RandomRotation(10),\n",
    "    transforms.RandomHorizontalFlip(),\n",
    "    transforms.RandomAffine(degrees=0,\n",
    "                            translate=(0.05, 0.05)),  # equivalente a width/height_shift\n",
    "    transforms.ToTensor(),\n",
    "    transforms.Normalize(mean=[0.5, 0.5, 0.5],\n",
    "                         std=[0.5, 0.5, 0.5])\n",
    "])\n",
    "\n",
    "# Transformaciones para validación y test (solo reescalado + normalización)\n",
    "val_test_transforms = transforms.Compose([\n",
    "    transforms.Resize((224, 224)),\n",
    "    transforms.ToTensor(),\n",
    "    transforms.Normalize(mean=[0.5, 0.5, 0.5],\n",
    "                         std=[0.5, 0.5, 0.5])\n",
    "])"
   ]
  },
  {
   "cell_type": "markdown",
   "id": "b3e93ef1",
   "metadata": {},
   "source": [
    "# Inicio del codigo"
   ]
  },
  {
   "cell_type": "code",
   "execution_count": 7,
   "id": "25e449e8",
   "metadata": {},
   "outputs": [
    {
     "name": "stdout",
     "output_type": "stream",
     "text": [
      "Using device: cuda\n"
     ]
    },
    {
     "data": {
      "text/plain": [
       "<torch._C.Generator at 0x24851ee9ef0>"
      ]
     },
     "execution_count": 7,
     "metadata": {},
     "output_type": "execute_result"
    }
   ],
   "source": [
    "# ----------------- Config -----------------\n",
    "BASE_DIR   = \"002_cancer\"\n",
    "TRAIN_DIR  = os.path.join(BASE_DIR, \"train\")\n",
    "VAL_DIR    = os.path.join(BASE_DIR, \"val\")\n",
    "TEST_DIR   = os.path.join(BASE_DIR, \"test\")\n",
    "\n",
    "CLASSES = 2\n",
    "BATCH   = 32\n",
    "ROWS = COLS = 224\n",
    "INPUT_CH = 3\n",
    "SEED         = 42\n",
    "EPOCHS       = 15\n",
    "TEST_MAX_SAMPLES = 3000\n",
    "\n",
    "device = \"cuda\" if torch.cuda.is_available() else \"cpu\"\n",
    "print(f\"Using device: {device}\")\n",
    "torch.manual_seed(SEED)\n"
   ]
  },
  {
   "cell_type": "code",
   "execution_count": 8,
   "id": "c96d6320",
   "metadata": {},
   "outputs": [
    {
     "name": "stdout",
     "output_type": "stream",
     "text": [
      "Clases: {'Benign': 0, 'Malignant': 1}\n",
      "Train=9504 | Val=2375 | Test=2000\n"
     ]
    }
   ],
   "source": [
    "# ===== Datasets & Dataloaders =====\n",
    "from torch.utils.data import random_split\n",
    "\n",
    "# Comprobación de carpetas\n",
    "for p in [TRAIN_DIR, TEST_DIR]:\n",
    "    assert os.path.isdir(os.path.join(p, \"Benign\")),    f\"Falta {p}/Benign\"\n",
    "    assert os.path.isdir(os.path.join(p, \"Malignant\")), f\"Falta {p}/Malignant\"\n",
    "\n",
    "use_explicit_val = os.path.isdir(VAL_DIR) and all(\n",
    "    os.path.isdir(os.path.join(VAL_DIR, c)) for c in [\"Benign\", \"Malignant\"]\n",
    ")\n",
    "\n",
    "if use_explicit_val:\n",
    "    train_ds = datasets.ImageFolder(TRAIN_DIR, transform=train_transforms)\n",
    "    val_ds   = datasets.ImageFolder(VAL_DIR,   transform=val_test_transforms)\n",
    "else:\n",
    "    # Split desde TRAIN -> (train, val)\n",
    "    full_train = datasets.ImageFolder(TRAIN_DIR, transform=train_transforms)\n",
    "    val_ratio  = 0.2\n",
    "    n_total    = len(full_train)\n",
    "    n_val      = int(n_total * val_ratio)\n",
    "    n_train    = n_total - n_val\n",
    "    train_ds, val_ds = random_split(\n",
    "        full_train, [n_train, n_val],\n",
    "        generator=torch.Generator().manual_seed(SEED)\n",
    "    )\n",
    "\n",
    "test_ds  = datasets.ImageFolder(TEST_DIR, transform=val_test_transforms)\n",
    "\n",
    "NUM_WORKERS = 0 if os.name == \"nt\" else 4\n",
    "train_loader = DataLoader(train_ds, batch_size=BATCH, shuffle=True,\n",
    "                          num_workers=NUM_WORKERS, pin_memory=(device==\"cuda\"))\n",
    "val_loader   = DataLoader(val_ds,   batch_size=BATCH, shuffle=False,\n",
    "                          num_workers=NUM_WORKERS, pin_memory=(device==\"cuda\"))\n",
    "test_loader  = DataLoader(test_ds,  batch_size=BATCH, shuffle=False,\n",
    "                          num_workers=NUM_WORKERS, pin_memory=(device==\"cuda\"))\n",
    "\n",
    "# Mapeo de clases\n",
    "if use_explicit_val:\n",
    "    class_to_idx = datasets.ImageFolder(TRAIN_DIR).class_to_idx\n",
    "else:\n",
    "    class_to_idx = train_ds.dataset.class_to_idx if hasattr(train_ds, \"dataset\") else datasets.ImageFolder(TRAIN_DIR).class_to_idx\n",
    "idx_to_class = {v:k for k,v in class_to_idx.items()}\n",
    "print(\"Clases:\", class_to_idx)\n",
    "print(f\"Train={len(train_ds)} | Val={len(val_ds)} | Test={len(test_ds)}\")\n"
   ]
  },
  {
   "cell_type": "code",
   "execution_count": 9,
   "id": "5cf11805",
   "metadata": {},
   "outputs": [
    {
     "name": "stdout",
     "output_type": "stream",
     "text": [
      "BasicCNN(\n",
      "  (features): Sequential(\n",
      "    (0): Conv2d(3, 32, kernel_size=(3, 3), stride=(1, 1), padding=(1, 1))\n",
      "    (1): BatchNorm2d(32, eps=1e-05, momentum=0.1, affine=True, track_running_stats=True)\n",
      "    (2): ReLU(inplace=True)\n",
      "    (3): MaxPool2d(kernel_size=2, stride=2, padding=0, dilation=1, ceil_mode=False)\n",
      "    (4): Conv2d(32, 64, kernel_size=(3, 3), stride=(1, 1), padding=(1, 1))\n",
      "    (5): BatchNorm2d(64, eps=1e-05, momentum=0.1, affine=True, track_running_stats=True)\n",
      "    (6): ReLU(inplace=True)\n",
      "    (7): MaxPool2d(kernel_size=2, stride=2, padding=0, dilation=1, ceil_mode=False)\n",
      "    (8): Conv2d(64, 128, kernel_size=(3, 3), stride=(1, 1), padding=(1, 1))\n",
      "    (9): BatchNorm2d(128, eps=1e-05, momentum=0.1, affine=True, track_running_stats=True)\n",
      "    (10): ReLU(inplace=True)\n",
      "    (11): MaxPool2d(kernel_size=2, stride=2, padding=0, dilation=1, ceil_mode=False)\n",
      "    (12): Conv2d(128, 256, kernel_size=(3, 3), stride=(1, 1), padding=(1, 1))\n",
      "    (13): BatchNorm2d(256, eps=1e-05, momentum=0.1, affine=True, track_running_stats=True)\n",
      "    (14): ReLU(inplace=True)\n",
      "    (15): MaxPool2d(kernel_size=2, stride=2, padding=0, dilation=1, ceil_mode=False)\n",
      "  )\n",
      "  (pool): AdaptiveAvgPool2d(output_size=(1, 1))\n",
      "  (classifier): Sequential(\n",
      "    (0): Flatten(start_dim=1, end_dim=-1)\n",
      "    (1): Dropout(p=0.3, inplace=False)\n",
      "    (2): Linear(in_features=256, out_features=128, bias=True)\n",
      "    (3): ReLU(inplace=True)\n",
      "    (4): Dropout(p=0.3, inplace=False)\n",
      "    (5): Linear(in_features=128, out_features=2, bias=True)\n",
      "  )\n",
      ")\n"
     ]
    }
   ],
   "source": [
    "# ===== Modelo básico (CNN pequeña) =====\n",
    "import torch.nn as nn\n",
    "import torch.nn.functional as F\n",
    "\n",
    "class BasicCNN(nn.Module):\n",
    "    def __init__(self, in_ch=3, num_classes=2):\n",
    "        super().__init__()\n",
    "        self.features = nn.Sequential(\n",
    "            nn.Conv2d(in_ch, 32, kernel_size=3, padding=1),  # [B,32,224,224]\n",
    "            nn.BatchNorm2d(32),\n",
    "            nn.ReLU(inplace=True),\n",
    "            nn.MaxPool2d(2),                                  # [B,32,112,112]\n",
    "\n",
    "            nn.Conv2d(32, 64, kernel_size=3, padding=1),      # [B,64,112,112]\n",
    "            nn.BatchNorm2d(64),\n",
    "            nn.ReLU(inplace=True),\n",
    "            nn.MaxPool2d(2),                                  # [B,64,56,56]\n",
    "\n",
    "            nn.Conv2d(64, 128, kernel_size=3, padding=1),     # [B,128,56,56]\n",
    "            nn.BatchNorm2d(128),\n",
    "            nn.ReLU(inplace=True),\n",
    "            nn.MaxPool2d(2),                                  # [B,128,28,28]\n",
    "\n",
    "            nn.Conv2d(128, 256, kernel_size=3, padding=1),    # [B,256,28,28]\n",
    "            nn.BatchNorm2d(256),\n",
    "            nn.ReLU(inplace=True),\n",
    "            nn.MaxPool2d(2),                                  # [B,256,14,14]\n",
    "        )\n",
    "        self.pool = nn.AdaptiveAvgPool2d((1,1))               # [B,256,1,1]\n",
    "        self.classifier = nn.Sequential(\n",
    "            nn.Flatten(),\n",
    "            nn.Dropout(0.3),\n",
    "            nn.Linear(256, 128),\n",
    "            nn.ReLU(inplace=True),\n",
    "            nn.Dropout(0.3),\n",
    "            nn.Linear(128, num_classes)\n",
    "        )\n",
    "    def forward(self, x):\n",
    "        x = self.features(x)\n",
    "        x = self.pool(x)\n",
    "        x = self.classifier(x)\n",
    "        return x\n",
    "\n",
    "model = BasicCNN(in_ch=INPUT_CH, num_classes=CLASSES).to(device)\n",
    "print(model)\n"
   ]
  },
  {
   "cell_type": "code",
   "execution_count": 10,
   "id": "ce66f4b2",
   "metadata": {},
   "outputs": [
    {
     "name": "stderr",
     "output_type": "stream",
     "text": [
      "C:\\Users\\Usuario\\AppData\\Local\\Temp\\ipykernel_20572\\772398189.py:8: FutureWarning: `torch.cuda.amp.GradScaler(args...)` is deprecated. Please use `torch.amp.GradScaler('cuda', args...)` instead.\n",
      "  scaler = torch.cuda.amp.GradScaler(enabled=USE_AMP)\n"
     ]
    }
   ],
   "source": [
    "# ===== Entrenamiento =====\n",
    "criterion = nn.CrossEntropyLoss()\n",
    "optimizer = torch.optim.AdamW(model.parameters(), lr=1e-3, weight_decay=1e-4)\n",
    "scheduler = torch.optim.lr_scheduler.ReduceLROnPlateau(optimizer, factor=0.5, patience=2)\n",
    "\n",
    "# Bandera para AMP: True solo si hay GPU\n",
    "USE_AMP = (device == \"cuda\")\n",
    "scaler = torch.cuda.amp.GradScaler(enabled=USE_AMP)\n",
    "\n",
    "best_val_loss = float(\"inf\")\n",
    "best_path = \"basic_cnn_best.pt\"\n",
    "patience = 5\n",
    "epochs_no_improve = 0\n",
    "\n",
    "def run_epoch(loader, train_mode=True):\n",
    "    if train_mode:\n",
    "        model.train()\n",
    "    else:\n",
    "        model.eval()\n",
    "    total, correct, running = 0, 0, 0.0\n",
    "\n",
    "    for xb, yb in loader:\n",
    "        xb, yb = xb.to(device), yb.to(device)\n",
    "\n",
    "        if train_mode:\n",
    "            optimizer.zero_grad(set_to_none=True)\n",
    "\n",
    "        if USE_AMP:\n",
    "            with torch.cuda.amp.autocast():\n",
    "                logits = model(xb)\n",
    "                loss   = criterion(logits, yb)\n",
    "        else:\n",
    "            logits = model(xb)\n",
    "            loss   = criterion(logits, yb)\n",
    "\n",
    "        if train_mode:\n",
    "            if USE_AMP:\n",
    "                scaler.scale(loss).backward()\n",
    "                scaler.step(optimizer)\n",
    "                scaler.update()\n",
    "            else:\n",
    "                loss.backward()\n",
    "                optimizer.step()\n",
    "\n",
    "        running += loss.item() * xb.size(0)\n",
    "        pred = logits.argmax(1)\n",
    "        total += yb.size(0)\n",
    "        correct += (pred == yb).sum().item()\n",
    "\n",
    "    return running/total, correct/total\n"
   ]
  },
  {
   "cell_type": "code",
   "execution_count": 11,
   "id": "36ec3b22",
   "metadata": {},
   "outputs": [
    {
     "name": "stderr",
     "output_type": "stream",
     "text": [
      "C:\\Users\\Usuario\\AppData\\Local\\Temp\\ipykernel_20572\\772398189.py:29: FutureWarning: `torch.cuda.amp.autocast(args...)` is deprecated. Please use `torch.amp.autocast('cuda', args...)` instead.\n",
      "  with torch.cuda.amp.autocast():\n"
     ]
    },
    {
     "name": "stdout",
     "output_type": "stream",
     "text": [
      "[01/15] train_loss=0.4479 acc=0.785 | val_loss=0.3795 acc=0.822 | LR=0.001000\n",
      "[02/15] train_loss=0.4004 acc=0.814 | val_loss=0.3514 acc=0.829 | LR=0.001000\n",
      "[03/15] train_loss=0.3704 acc=0.829 | val_loss=0.3438 acc=0.851 | LR=0.001000\n",
      "[04/15] train_loss=0.3493 acc=0.842 | val_loss=0.3302 acc=0.855 | LR=0.001000\n",
      "[05/15] train_loss=0.3430 acc=0.848 | val_loss=0.3301 acc=0.868 | LR=0.001000\n",
      "[06/15] train_loss=0.3227 acc=0.858 | val_loss=0.3180 acc=0.869 | LR=0.001000\n",
      "[07/15] train_loss=0.3237 acc=0.859 | val_loss=0.3075 acc=0.873 | LR=0.001000\n",
      "[08/15] train_loss=0.3173 acc=0.862 | val_loss=0.3223 acc=0.865 | LR=0.001000\n",
      "[09/15] train_loss=0.3116 acc=0.864 | val_loss=0.3116 acc=0.865 | LR=0.001000\n",
      "[10/15] train_loss=0.3131 acc=0.862 | val_loss=0.2946 acc=0.879 | LR=0.001000\n",
      "[11/15] train_loss=0.3091 acc=0.867 | val_loss=0.3076 acc=0.867 | LR=0.001000\n",
      "[12/15] train_loss=0.3023 acc=0.869 | val_loss=0.3123 acc=0.872 | LR=0.001000\n",
      "[13/15] train_loss=0.2993 acc=0.869 | val_loss=0.2920 acc=0.875 | LR=0.001000\n",
      "[14/15] train_loss=0.2939 acc=0.874 | val_loss=0.2831 acc=0.880 | LR=0.001000\n",
      "[15/15] train_loss=0.2909 acc=0.874 | val_loss=0.2872 acc=0.884 | LR=0.001000\n"
     ]
    }
   ],
   "source": [
    "# ===== Loop de entrenamiento con early stopping =====\n",
    "for epoch in range(1, EPOCHS+1):\n",
    "    tr_loss, tr_acc = run_epoch(train_loader, train_mode=True)\n",
    "    with torch.no_grad():\n",
    "        va_loss, va_acc = run_epoch(val_loader, train_mode=False)\n",
    "\n",
    "    scheduler.step(va_loss)\n",
    "\n",
    "    print(f\"[{epoch:02d}/{EPOCHS}] \"\n",
    "          f\"train_loss={tr_loss:.4f} acc={tr_acc:.3f} | \"\n",
    "          f\"val_loss={va_loss:.4f} acc={va_acc:.3f} | \"\n",
    "          f\"LR={optimizer.param_groups[0]['lr']:.6f}\")\n",
    "\n",
    "    # early stopping\n",
    "    if va_loss < best_val_loss - 1e-4:\n",
    "        best_val_loss = va_loss\n",
    "        epochs_no_improve = 0\n",
    "        torch.save({\"model\": model.state_dict(), \"class_to_idx\": class_to_idx}, best_path)\n",
    "    else:\n",
    "        epochs_no_improve += 1\n",
    "        if epochs_no_improve >= patience:\n",
    "            print(\"Early stopping.\")\n",
    "            break\n",
    "        "
   ]
  }
 ],
 "metadata": {
  "kernelspec": {
   "display_name": "env11 (3.11.9)",
   "language": "python",
   "name": "python3"
  },
  "language_info": {
   "codemirror_mode": {
    "name": "ipython",
    "version": 3
   },
   "file_extension": ".py",
   "mimetype": "text/x-python",
   "name": "python",
   "nbconvert_exporter": "python",
   "pygments_lexer": "ipython3",
   "version": "3.11.9"
  }
 },
 "nbformat": 4,
 "nbformat_minor": 5
}
